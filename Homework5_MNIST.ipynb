{
  "nbformat": 4,
  "nbformat_minor": 0,
  "metadata": {
    "colab": {
      "provenance": [],
      "authorship_tag": "ABX9TyP/KVWd/Pf4txwAr9xR57sa",
      "include_colab_link": true
    },
    "kernelspec": {
      "name": "python3",
      "display_name": "Python 3"
    },
    "language_info": {
      "name": "python"
    }
  },
  "cells": [
    {
      "cell_type": "markdown",
      "metadata": {
        "id": "view-in-github",
        "colab_type": "text"
      },
      "source": [
        "<a href=\"https://colab.research.google.com/github/yeekha89/Assignment-Submmissions/blob/main/Homework5_MNIST.ipynb\" target=\"_parent\"><img src=\"https://colab.research.google.com/assets/colab-badge.svg\" alt=\"Open In Colab\"/></a>"
      ]
    },
    {
      "cell_type": "code",
      "source": [
        "# Import libraries\n",
        "import time\n",
        "\n",
        "from sklearn.datasets import fetch_openml\n",
        "from sklearn.model_selection import train_test_split\n",
        "from sklearn.linear_model import LogisticRegression\n",
        "from sklearn.preprocessing import StandardScaler\n",
        "from sklearn.metrics import accuracy_score\n",
        "from sklearn.decomposition import PCA"
      ],
      "metadata": {
        "id": "OYKGdQb2nLz9"
      },
      "execution_count": 3,
      "outputs": []
    },
    {
      "cell_type": "code",
      "source": [
        "# Load MNIST dataset\n",
        "mnist = fetch_openml('mnist_784', version=1, as_frame=False)\n",
        "X, y = mnist.data, mnist.target.astype('int')"
      ],
      "metadata": {
        "id": "g0H1nWilnaMl"
      },
      "execution_count": 4,
      "outputs": []
    },
    {
      "cell_type": "code",
      "source": [
        "# Split data for training and testing\n",
        "X_train, X_test, y_train, y_test = train_test_split(X, y, test_size=0.2, random_state=42)"
      ],
      "metadata": {
        "id": "dh6NK-v6nvSv"
      },
      "execution_count": 6,
      "outputs": []
    },
    {
      "cell_type": "code",
      "source": [
        "# Apply StandardScaler\n",
        "scaler = StandardScaler()\n",
        "X_train_scaled = scaler.fit_transform(X_train)\n",
        "X_test_scaled = scaler.transform(X_test)"
      ],
      "metadata": {
        "id": "_MVdmKI8n0lF"
      },
      "execution_count": 7,
      "outputs": []
    },
    {
      "cell_type": "code",
      "source": [
        "# Train Logistic Regression without PCA\n",
        "startTime_no_pca = time.time()\n",
        "lr_no_pca = LogisticRegression(solver='lbfgs', max_iter=1000)\n",
        "lr_no_pca.fit(X_train_scaled, y_train)\n",
        "y_pred_no_pca = lr_no_pca.predict(X_test_scaled)\n",
        "endTime_no_pca = time.time()\n",
        "\n",
        "# Score accuracy\n",
        "accuracyScore_no_pca = accuracy_score(y_test, y_pred_no_pca)\n",
        "time_no_pca = endTime_no_pca - startTime_no_pca"
      ],
      "metadata": {
        "id": "4n8mq8c4n60D"
      },
      "execution_count": 10,
      "outputs": []
    },
    {
      "cell_type": "code",
      "source": [
        "# Train Logistic Regression with PCA\n",
        "pca = PCA(n_components=0.95)\n",
        "X_train_pca = pca.fit_transform(X_train_scaled)\n",
        "X_test_pca = pca.transform(X_test_scaled)\n",
        "startTime_pca = time.time()\n",
        "lr_pca = LogisticRegression(solver='lbfgs', max_iter=1000)\n",
        "lr_pca.fit(X_train_pca, y_train)\n",
        "y_pred_pca = lr_pca.predict(X_test_pca)\n",
        "endTime_pca = time.time()\n",
        "\n",
        "#Accuracy Score\n",
        "accuracy_pca = accuracy_score(y_test, y_pred_pca)\n",
        "time_pca = endTime_pca - startTime_pca"
      ],
      "metadata": {
        "id": "VW149Q3uqU1v"
      },
      "execution_count": 14,
      "outputs": []
    },
    {
      "cell_type": "code",
      "source": [
        "# Print conclusions\n",
        "print(f\"Accuracy with PCA is {accuracy_pca * 100:.2f}% with a time of: {time_pca:.2f} sec\")\n",
        "print(f\"Accuracy without PCA is {accuracyScore_no_pca * 100:.2f}% with a time of: {time_no_pca:.2f} sec\")\n",
        "print(f\"There is a reduced dimension of {pca.n_components_} from 784 original dimensions\")"
      ],
      "metadata": {
        "colab": {
          "base_uri": "https://localhost:8080/"
        },
        "id": "IHwNoXdwrYOo",
        "outputId": "45814a39-fac5-498b-c88a-07efb4936903"
      },
      "execution_count": 31,
      "outputs": [
        {
          "output_type": "stream",
          "name": "stdout",
          "text": [
            "Accuracy with PCA is 92.20% with a time of: 61.67 sec\n",
            "Accuracy without PCA is 91.54% with a time of: 73.44 sec\n",
            "There is a reduced dimension of 330 from 784 original dimensions\n"
          ]
        }
      ]
    }
  ]
}