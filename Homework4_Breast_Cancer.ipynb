{
  "nbformat": 4,
  "nbformat_minor": 0,
  "metadata": {
    "colab": {
      "provenance": [],
      "include_colab_link": true
    },
    "kernelspec": {
      "name": "python3",
      "display_name": "Python 3"
    },
    "language_info": {
      "name": "python"
    }
  },
  "cells": [
    {
      "cell_type": "markdown",
      "metadata": {
        "id": "view-in-github",
        "colab_type": "text"
      },
      "source": [
        "<a href=\"https://colab.research.google.com/github/yeekha89/Assignment-Submmissions/blob/main/Homework4_Breast_Cancer.ipynb\" target=\"_parent\"><img src=\"https://colab.research.google.com/assets/colab-badge.svg\" alt=\"Open In Colab\"/></a>"
      ]
    },
    {
      "cell_type": "code",
      "execution_count": 50,
      "metadata": {
        "id": "zSaGTA42WKZ-"
      },
      "outputs": [],
      "source": [
        "# Ex 15.17 – Binary Classification with the Breast Cancer Dataset\n",
        "# Covers:\n",
        "# - Loading dataset\n",
        "# - Checking sample & target sizes\n",
        "# - Train/test split\n",
        "# - Model (GaussianNB), training, predicting\n",
        "# - Estimator method score\n",
        "# - Confusion matrix & classification report\n",
        "# - Visualizing confusion matrix\n",
        "# - KFold cross-validation with cross_val_score\n",
        "# - Running multiple models (GaussianNB, KNN, LogisticRegression, SVC) to find best\n",
        "\n",
        "import numpy as np\n",
        "import matplotlib.pyplot as plt\n",
        "\n",
        "from sklearn.datasets import load_breast_cancer\n",
        "from sklearn.model_selection import train_test_split, KFold, cross_val_score\n",
        "from sklearn.pipeline import Pipeline\n",
        "from sklearn.preprocessing import StandardScaler\n",
        "from sklearn.naive_bayes import GaussianNB\n",
        "from sklearn.neighbors import KNeighborsClassifier\n",
        "from sklearn.linear_model import LogisticRegression\n",
        "from sklearn.svm import SVC\n",
        "from sklearn.metrics import confusion_matrix, classification_report, accuracy_score"
      ]
    },
    {
      "cell_type": "code",
      "source": [
        "#  Utility: pretty confusion-matrix plot (pure matplotlib, no seaborn)\n",
        "def plot_confusion_matrix(cm, class_names, title=\"Confusion Matrix\"):\n",
        "    fig, ax = plt.subplots(figsize=(5.2, 4.6))\n",
        "    im = ax.imshow(cm, interpolation=\"nearest\")\n",
        "    ax.set_title(title)\n",
        "    ax.set_xlabel(\"Predicted label\")\n",
        "    ax.set_ylabel(\"True label\")\n",
        "    ax.set_xticks(np.arange(len(class_names)))\n",
        "    ax.set_yticks(np.arange(len(class_names)))\n",
        "    ax.set_xticklabels(class_names)\n",
        "    ax.set_yticklabels(class_names)\n",
        "\n",
        "    # Annotate cells\n",
        "    for i in range(cm.shape[0]):\n",
        "        for j in range(cm.shape[1]):\n",
        "            ax.text(j, i, format(cm[i, j], \"d\"), ha=\"center\", va=\"center\")\n",
        "\n",
        "    # Add colorbar (default colormap)\n",
        "    fig.colorbar(im, ax=ax, fraction=0.046, pad=0.04)\n",
        "    fig.tight_layout()\n",
        "    plt.show()"
      ],
      "metadata": {
        "id": "pvbwL20gWL_A"
      },
      "execution_count": 63,
      "outputs": []
    },
    {
      "cell_type": "code",
      "source": [
        "# Load dataset\n",
        "breast_cancer = load_breast_cancer()\n",
        "X = breast_cancer.data\n",
        "y = breast_cancer.target\n",
        "feature_names = breast_cancer.feature_names\n",
        "target_names = breast_cancer.target_names\n",
        "\n",
        "# Print data info\n",
        "print(\"Features shape:\", X.shape)          # (569, 30)\n",
        "print(\"Target shape:\", y.shape)            # (569,)\n",
        "print(\"Classes:\", list(target_names))      # ['malignant', 'benign']"
      ],
      "metadata": {
        "colab": {
          "base_uri": "https://localhost:8080/"
        },
        "id": "mQ7m8h8FWeji",
        "outputId": "da32d861-5c44-4268-9c7c-29999111544d"
      },
      "execution_count": 52,
      "outputs": [
        {
          "output_type": "stream",
          "name": "stdout",
          "text": [
            "Features shape: (569, 30)\n",
            "Target shape: (569,)\n",
            "Classes: [np.str_('malignant'), np.str_('benign')]\n"
          ]
        }
      ]
    },
    {
      "cell_type": "code",
      "source": [
        "# Class distribution\n",
        "unique, counts = np.unique(y, return_counts=True)\n",
        "class_counts = dict(zip([target_names[i] for i in unique], counts))\n",
        "print(\"Class counts:\", class_counts)"
      ],
      "metadata": {
        "colab": {
          "base_uri": "https://localhost:8080/"
        },
        "id": "xjZDRlsYpkjJ",
        "outputId": "5ac695b7-3c36-4447-fc3a-1051afbdee0a"
      },
      "execution_count": 53,
      "outputs": [
        {
          "output_type": "stream",
          "name": "stdout",
          "text": [
            "Class counts: {np.str_('malignant'): np.int64(212), np.str_('benign'): np.int64(357)}\n"
          ]
        }
      ]
    },
    {
      "cell_type": "code",
      "source": [
        "# Train/Test split\n",
        "X_train, X_test, y_train, y_test = train_test_split(\n",
        "    X, y, test_size=0.30, random_state=42, stratify=y\n",
        ")\n",
        "\n",
        "print(\"Training set:\", X_train.shape, \" Testing set:\", X_test.shape)"
      ],
      "metadata": {
        "colab": {
          "base_uri": "https://localhost:8080/"
        },
        "id": "LLL9uNOtWjYP",
        "outputId": "5703a1bd-217a-47b9-e1ba-8154b31f7449"
      },
      "execution_count": 54,
      "outputs": [
        {
          "output_type": "stream",
          "name": "stdout",
          "text": [
            "Training set: (398, 30)  Testing set: (171, 30)\n"
          ]
        }
      ]
    },
    {
      "cell_type": "code",
      "source": [
        "# Create & train GaussianNB\n",
        "nb = GaussianNB()\n",
        "nb.fit(X_train, y_train)\n",
        "\n",
        "# Predict & metrics\n",
        "y_pred = nb.predict(X_test)\n",
        "\n",
        "print(\"=== GaussianNB Results (Test Set) ===\")\n",
        "acc = accuracy_score(y_test, y_pred)\n",
        "print(f\"Estimator method score (accuracy): {nb.score(X_test, y_test):.2%}\")\n",
        "print(f\"Accuracy (accuracy_score):   {acc:.2%}\")"
      ],
      "metadata": {
        "colab": {
          "base_uri": "https://localhost:8080/"
        },
        "id": "Ew7qblHfWwmv",
        "outputId": "344353a0-598a-47e6-f7f0-362f174d478c"
      },
      "execution_count": 69,
      "outputs": [
        {
          "output_type": "stream",
          "name": "stdout",
          "text": [
            "=== GaussianNB Results (Test Set) ===\n",
            "Estimator method score (accuracy): 94.74%\n",
            "Accuracy (accuracy_score):   94.74%\n"
          ]
        }
      ]
    },
    {
      "cell_type": "code",
      "source": [
        "cm = confusion_matrix(y_test, y_pred)\n",
        "print(\"Confusion Matrix:\\n\", cm)\n",
        "print(\"\\nClassification Report:\\n\", classification_report(y_test, y_pred, target_names=target_names))\n",
        "\n",
        "# Visualize confusion matrix\n",
        "plot_confusion_matrix(cm, class_names=target_names, title=\"Confusion Matrix - GaussianNB\")"
      ],
      "metadata": {
        "colab": {
          "base_uri": "https://localhost:8080/",
          "height": 683
        },
        "id": "gdE8c5AYsBKd",
        "outputId": "06e0da61-fb23-4764-f8bf-f0add79e1096"
      },
      "execution_count": 56,
      "outputs": [
        {
          "output_type": "stream",
          "name": "stdout",
          "text": [
            "Confusion Matrix:\n",
            " [[ 57   7]\n",
            " [  2 105]]\n",
            "\n",
            "Classification Report:\n",
            "               precision    recall  f1-score   support\n",
            "\n",
            "   malignant       0.97      0.89      0.93        64\n",
            "      benign       0.94      0.98      0.96       107\n",
            "\n",
            "    accuracy                           0.95       171\n",
            "   macro avg       0.95      0.94      0.94       171\n",
            "weighted avg       0.95      0.95      0.95       171\n",
            "\n"
          ]
        },
        {
          "output_type": "display_data",
          "data": {
            "text/plain": [
              "<Figure size 520x460 with 2 Axes>"
            ],
            "image/png": "[encoded data removed]"
          },
          "metadata": {}
        }
      ]
    },
    {
      "cell_type": "code",
      "source": [
        "# 10-fold cross-validation with KFold\n",
        "kfold = KFold(n_splits=10, random_state=11, shuffle=True)\n",
        "cv_scores_nb = cross_val_score(estimator=nb, X=X, y=y, cv=kfold)\n",
        "print(\"=== GaussianNB 10-Fold CV ===\")\n",
        "print(\"Fold scores:\", np.round(cv_scores_nb, 2))\n",
        "print(\"Mean CV accuracy:\", cv_scores_nb.mean().round(2))"
      ],
      "metadata": {
        "colab": {
          "base_uri": "https://localhost:8080/"
        },
        "id": "j3060hMjYu-l",
        "outputId": "dccc3d4d-6e7c-40c1-86f8-5c86d26f4bca"
      },
      "execution_count": 65,
      "outputs": [
        {
          "output_type": "stream",
          "name": "stdout",
          "text": [
            "=== GaussianNB 10-Fold CV ===\n",
            "Fold scores: [0.96 0.91 0.95 0.89 0.96 0.95 0.96 0.89 0.96 0.93]\n",
            "Mean CV accuracy: 0.94\n"
          ]
        }
      ]
    },
    {
      "cell_type": "code",
      "source": [
        "# Run multiple models to find the best\n",
        "estimators = {\n",
        "    \"GaussianNB\": Pipeline(steps=[(\"clf\", GaussianNB())]),\n",
        "    \"KNeighborsClassifier\": Pipeline(steps=[\n",
        "        (\"scaler\", StandardScaler()),\n",
        "        (\"clf\", KNeighborsClassifier())\n",
        "    ]),\n",
        "    \"LogisticRegression\": Pipeline(steps=[\n",
        "        (\"scaler\", StandardScaler()),\n",
        "        (\"clf\", LogisticRegression(solver=\"lbfgs\", multi_class=\"ovr\", max_iter=10000))\n",
        "    ]),\n",
        "    \"SVC\": Pipeline(steps=[\n",
        "        (\"scaler\", StandardScaler()),\n",
        "        (\"clf\", SVC(gamma=\"scale\"))\n",
        "    ])\n",
        "}\n",
        "\n",
        "print(\"=== Model Comparison via 10-Fold CV ===\")\n",
        "model_means = {}\n",
        "for name, pipe in estimators.items():\n",
        "    scores = cross_val_score(pipe, X, y, cv=kfold)\n",
        "    mean_score = scores.mean()\n",
        "    model_means[name] = mean_score\n",
        "    print(f\"{name:22s} Mean CV Accuracy = {mean_score:.2%}\")"
      ],
      "metadata": {
        "colab": {
          "base_uri": "https://localhost:8080/"
        },
        "id": "nbtiyq93tk3C",
        "outputId": "43e8f6b4-7928-48a4-c4b8-7d0ba28df6d0"
      },
      "execution_count": 61,
      "outputs": [
        {
          "output_type": "stream",
          "name": "stdout",
          "text": [
            "=== Model Comparison via 10-Fold CV ===\n",
            "GaussianNB             Mean CV Accuracy = 93.85%\n",
            "KNeighborsClassifier   Mean CV Accuracy = 96.83%\n",
            "LogisticRegression     Mean CV Accuracy = 97.89%\n"
          ]
        },
        {
          "output_type": "stream",
          "name": "stderr",
          "text": [
            "/usr/local/lib/python3.12/dist-packages/sklearn/linear_model/_logistic.py:1256: FutureWarning: 'multi_class' was deprecated in version 1.5 and will be removed in 1.7. Use OneVsRestClassifier(LogisticRegression(..)) instead. Leave it to its default value to avoid this warning.\n",
            "  warnings.warn(\n",
            "/usr/local/lib/python3.12/dist-packages/sklearn/linear_model/_logistic.py:1256: FutureWarning: 'multi_class' was deprecated in version 1.5 and will be removed in 1.7. Use OneVsRestClassifier(LogisticRegression(..)) instead. Leave it to its default value to avoid this warning.\n",
            "  warnings.warn(\n",
            "/usr/local/lib/python3.12/dist-packages/sklearn/linear_model/_logistic.py:1256: FutureWarning: 'multi_class' was deprecated in version 1.5 and will be removed in 1.7. Use OneVsRestClassifier(LogisticRegression(..)) instead. Leave it to its default value to avoid this warning.\n",
            "  warnings.warn(\n",
            "/usr/local/lib/python3.12/dist-packages/sklearn/linear_model/_logistic.py:1256: FutureWarning: 'multi_class' was deprecated in version 1.5 and will be removed in 1.7. Use OneVsRestClassifier(LogisticRegression(..)) instead. Leave it to its default value to avoid this warning.\n",
            "  warnings.warn(\n",
            "/usr/local/lib/python3.12/dist-packages/sklearn/linear_model/_logistic.py:1256: FutureWarning: 'multi_class' was deprecated in version 1.5 and will be removed in 1.7. Use OneVsRestClassifier(LogisticRegression(..)) instead. Leave it to its default value to avoid this warning.\n",
            "  warnings.warn(\n",
            "/usr/local/lib/python3.12/dist-packages/sklearn/linear_model/_logistic.py:1256: FutureWarning: 'multi_class' was deprecated in version 1.5 and will be removed in 1.7. Use OneVsRestClassifier(LogisticRegression(..)) instead. Leave it to its default value to avoid this warning.\n",
            "  warnings.warn(\n",
            "/usr/local/lib/python3.12/dist-packages/sklearn/linear_model/_logistic.py:1256: FutureWarning: 'multi_class' was deprecated in version 1.5 and will be removed in 1.7. Use OneVsRestClassifier(LogisticRegression(..)) instead. Leave it to its default value to avoid this warning.\n",
            "  warnings.warn(\n",
            "/usr/local/lib/python3.12/dist-packages/sklearn/linear_model/_logistic.py:1256: FutureWarning: 'multi_class' was deprecated in version 1.5 and will be removed in 1.7. Use OneVsRestClassifier(LogisticRegression(..)) instead. Leave it to its default value to avoid this warning.\n",
            "  warnings.warn(\n",
            "/usr/local/lib/python3.12/dist-packages/sklearn/linear_model/_logistic.py:1256: FutureWarning: 'multi_class' was deprecated in version 1.5 and will be removed in 1.7. Use OneVsRestClassifier(LogisticRegression(..)) instead. Leave it to its default value to avoid this warning.\n",
            "  warnings.warn(\n",
            "/usr/local/lib/python3.12/dist-packages/sklearn/linear_model/_logistic.py:1256: FutureWarning: 'multi_class' was deprecated in version 1.5 and will be removed in 1.7. Use OneVsRestClassifier(LogisticRegression(..)) instead. Leave it to its default value to avoid this warning.\n",
            "  warnings.warn(\n"
          ]
        },
        {
          "output_type": "stream",
          "name": "stdout",
          "text": [
            "SVC                    Mean CV Accuracy = 97.89%\n"
          ]
        }
      ]
    },
    {
      "cell_type": "code",
      "source": [
        "# Simple bar chart of CV means\n",
        "plt.figure(figsize=(6.8, 4.2))\n",
        "names = list(model_means.keys())\n",
        "vals = [model_means[k] for k in names]\n",
        "plt.bar(names, vals)\n",
        "plt.ylabel(\"Mean CV Accuracy (10-fold)\")\n",
        "plt.title(\"Breast Cancer – Model Comparison\")\n",
        "plt.ylim(0.85, 1.00)  # typical range for this dataset\n",
        "plt.xticks(rotation=15)\n",
        "plt.tight_layout()\n",
        "plt.show()"
      ],
      "metadata": {
        "colab": {
          "base_uri": "https://localhost:8080/",
          "height": 426
        },
        "id": "M9bSyFWbYxs0",
        "outputId": "37204f38-3e0d-4abd-d1a6-eb80728c044d"
      },
      "execution_count": 59,
      "outputs": [
        {
          "output_type": "display_data",
          "data": {
            "text/plain": [
              "<Figure size 680x420 with 1 Axes>"
            ],
            "image/png": "[encoded data removed]"
          },
          "metadata": {}
        }
      ]
    },
    {
      "cell_type": "code",
      "source": [
        "# Test accuracy of each model\n",
        "print(\"\\n=== Test-Set Accuracy for Each Model (same train/test split) ===\")\n",
        "for name, pipe in estimators.items():\n",
        "    pipe.fit(X_train, y_train)\n",
        "    test_acc = pipe.score(X_test, y_test)\n",
        "    print(f\"{name:22s} Test Accuracy = {test_acc:.2%}\")"
      ],
      "metadata": {
        "colab": {
          "base_uri": "https://localhost:8080/"
        },
        "id": "JGYoM1P0t59N",
        "outputId": "463f758b-af3c-4ff2-d7a0-ad5aab14c931"
      },
      "execution_count": 60,
      "outputs": [
        {
          "output_type": "stream",
          "name": "stdout",
          "text": [
            "\n",
            "=== Test-Set Accuracy for Each Model (same train/test split) ===\n",
            "GaussianNB             Test Accuracy = 94.74%\n",
            "KNeighborsClassifier   Test Accuracy = 95.91%\n",
            "LogisticRegression     Test Accuracy = 98.83%\n",
            "SVC                    Test Accuracy = 97.66%\n"
          ]
        },
        {
          "output_type": "stream",
          "name": "stderr",
          "text": [
            "/usr/local/lib/python3.12/dist-packages/sklearn/linear_model/_logistic.py:1256: FutureWarning: 'multi_class' was deprecated in version 1.5 and will be removed in 1.7. Use OneVsRestClassifier(LogisticRegression(..)) instead. Leave it to its default value to avoid this warning.\n",
            "  warnings.warn(\n"
          ]
        }
      ]
    }
  ]
}